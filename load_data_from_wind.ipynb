{
 "cells": [
  {
   "cell_type": "code",
   "execution_count": 14,
   "metadata": {},
   "outputs": [
    {
     "data": {
      "text/plain": [
       ".ErrorCode=0\n",
       ".Data=[Already connected!]"
      ]
     },
     "execution_count": 14,
     "metadata": {},
     "output_type": "execute_result"
    }
   ],
   "source": [
    "import pandas as pd\n",
    "import numpy as np\n",
    "from WindPy import w\n",
    "\n",
    "w.start()"
   ]
  },
  {
   "cell_type": "code",
   "execution_count": 15,
   "metadata": {},
   "outputs": [],
   "source": [
    "begin_date = np.datetime64(\"2015-01-01\")\n",
    "end_date = np.datetime64(\"today\")"
   ]
  },
  {
   "cell_type": "markdown",
   "metadata": {},
   "source": [
    "## 大小盘"
   ]
  },
  {
   "cell_type": "code",
   "execution_count": 16,
   "metadata": {},
   "outputs": [],
   "source": [
    "# 801811.SI: 大盘指数(申万)\n",
    "# 801813.SI: 小盘指数(申万)\n",
    "# 801823.SI: 低市盈率指数(申万)\n",
    "# 801821.SI: 高市盈率指数(申万)\n",
    "# 399371.SZ: 国证价值指数\n",
    "# 399370.SZ: 国证成长指数\n",
    "for code in [\n",
    "    \"801811.SI\",\n",
    "    \"801813.SI\",\n",
    "    \"801823.SI\",\n",
    "    \"801821.SI\",\n",
    "    \"399371.SZ\",\n",
    "    \"399370.SZ\",\n",
    "    \"CI013003.WI\",  # 招商私募指数股票中性\n",
    "]:\n",
    "    _, data = w.wsd(\n",
    "        code,\n",
    "        \"open,close,high,low,volume,amt,turn,chg,pct_chg\",\n",
    "        np.datetime_as_string(begin_date, unit=\"D\"),\n",
    "        np.datetime_as_string(end_date, unit=\"D\"),\n",
    "        PriceAdj=\"F\",\n",
    "        usedf=True,\n",
    "    )\n",
    "    data.index.name = \"日期\"\n",
    "    data.reset_index(drop=False, inplace=True)\n",
    "    data.to_csv(rf\"data/{code}.csv\", index=False, encoding=\"utf_8_sig\")"
   ]
  },
  {
   "cell_type": "code",
   "execution_count": 17,
   "metadata": {},
   "outputs": [],
   "source": [
    "code_sw1 = [\n",
    "    \"801010.SI\",\n",
    "    \"801030.SI\",\n",
    "    \"801040.SI\",\n",
    "    \"801050.SI\",\n",
    "    \"801080.SI\",\n",
    "    \"801110.SI\",\n",
    "    \"801120.SI\",\n",
    "    \"801130.SI\",\n",
    "    \"801140.SI\",\n",
    "    \"801150.SI\",\n",
    "    \"801160.SI\",\n",
    "    \"801170.SI\",\n",
    "    \"801180.SI\",\n",
    "    \"801200.SI\",\n",
    "    \"801210.SI\",\n",
    "    \"801230.SI\",\n",
    "    \"801710.SI\",\n",
    "    \"801720.SI\",\n",
    "    \"801730.SI\",\n",
    "    \"801740.SI\",\n",
    "    \"801750.SI\",\n",
    "    \"801760.SI\",\n",
    "    \"801770.SI\",\n",
    "    \"801780.SI\",\n",
    "    \"801790.SI\",\n",
    "    \"801880.SI\",\n",
    "    \"801890.SI\",\n",
    "    \"801950.SI\",\n",
    "    \"801960.SI\",\n",
    "    \"801970.SI\",\n",
    "    \"801980.SI\",\n",
    "]\n",
    "\n",
    "for code in code_sw1:\n",
    "    _, data = w.wsd(\n",
    "        code,\n",
    "        \"open,close,high,low,volume,amt,turn,chg,pct_chg\",\n",
    "        np.datetime_as_string(begin_date, unit=\"D\"),\n",
    "        np.datetime_as_string(end_date, unit=\"D\"),\n",
    "        PriceAdj=\"F\",\n",
    "        usedf=True,\n",
    "    )\n",
    "    data.index.name = \"日期\"\n",
    "    data.reset_index(drop=False, inplace=True)\n",
    "    data.to_csv(rf\"data/sw1/{code}.csv\", index=False, encoding=\"utf_8_sig\")"
   ]
  },
  {
   "cell_type": "code",
   "execution_count": 18,
   "metadata": {},
   "outputs": [],
   "source": [
    "# wind 全A情况\n",
    "_, data = w.wsd(\n",
    "    \"881001.WI\",\n",
    "    \"open,close,high,low,volume,amt,turn,chg,pct_chg,free_float_shares\",\n",
    "    np.datetime_as_string(begin_date, unit=\"D\"),\n",
    "    np.datetime_as_string(end_date, unit=\"D\"),\n",
    "    PriceAdj=\"F\",\n",
    "    usedf=True,\n",
    ")\n",
    "data.index.name = \"日期\"\n",
    "data.reset_index(drop=False, inplace=True)\n",
    "data.to_csv(rf\"data/881001.WI.csv\", index=False, encoding=\"utf_8_sig\")"
   ]
  }
 ],
 "metadata": {
  "kernelspec": {
   "display_name": ".venv",
   "language": "python",
   "name": "python3"
  },
  "language_info": {
   "codemirror_mode": {
    "name": "ipython",
    "version": 3
   },
   "file_extension": ".py",
   "mimetype": "text/x-python",
   "name": "python",
   "nbconvert_exporter": "python",
   "pygments_lexer": "ipython3",
   "version": "3.12.4"
  }
 },
 "nbformat": 4,
 "nbformat_minor": 2
}
